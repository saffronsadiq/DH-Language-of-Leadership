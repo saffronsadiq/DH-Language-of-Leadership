{
 "cells": [
  {
   "cell_type": "code",
   "execution_count": 1,
   "id": "0fb7b476-244f-4302-9e02-d186e3e5fac5",
   "metadata": {},
   "outputs": [],
   "source": [
    "emotion_keywords = {\n",
    "    \"optimistic\": [\n",
    "        \"great\", \"amazing\", \"winning\", \"better\", \"success\", \n",
    "        \"opportunity\", \"stronger\", \"future\", \"hope\", \"bright\",\n",
    "        \"incredible\", \"rebuild\", \"promise\", \"prosperity\", \"dream\",\n",
    "        \"forward\", \"growth\", \"achievement\", \"renew\", \"momentum\"\n",
    "    ],\n",
    "    \"angry\": [\n",
    "        \"disaster\", \"corruption\", \"crooked\", \"rigged\", \"fake\",\n",
    "        \"betrayal\", \"radical\", \"failed\", \"chaos\", \"weak\",\n",
    "        \"crime\", \"broken\", \"attack\", \"disgrace\", \"outrage\",\n",
    "        \"threat\", \"liar\", \"fraud\", \"cheat\", \"violation\"\n",
    "    ],\n",
    "    \"fearful\": [\n",
    "        \"danger\", \"risk\", \"threat\", \"uncertain\", \"terror\",\n",
    "        \"radical\", \"collapse\", \"invasion\", \"anarchy\",\n",
    "        \"crime\", \"violence\", \"chaos\", \"disorder\", \"decline\",\n",
    "        \"fear\", \"worry\", \"fragile\", \"weakness\", \"disaster\"\n",
    "    ],\n",
    "    \"proud\": [\n",
    "        \"great\", \"American\", \"nation\", \"heritage\", \"flag\",\n",
    "        \"freedom\", \"patriot\", \"military\", \"hero\", \"victory\",\n",
    "        \"success\", \"pride\", \"independence\", \"strength\", \"achievement\",\n",
    "        \"country\", \"unity\", \"values\", \"honor\", \"power\"\n",
    "    ],\n",
    "    \"empathetic\": [\n",
    "        \"care\", \"help\", \"support\", \"understand\", \"compassion\",\n",
    "        \"heal\", \"family\", \"together\", \"listen\", \"people\",\n",
    "        \"unity\", \"respect\", \"comfort\", \"serve\", \"struggle\",\n",
    "        \"children\", \"health\", \"love\", \"protection\", \"needs\"\n",
    "    ],\n",
    "    \"determined\": [\n",
    "        \"fight\", \"win\", \"resolve\", \"commitment\", \"focus\",\n",
    "        \"goal\", \"mission\", \"stand\", \"persist\", \"lead\",\n",
    "        \"drive\", \"deliver\", \"overcome\", \"achieve\", \"unstoppable\",\n",
    "        \"power\", \"forward\", \"effort\", \"determined\", \"unstoppable\"\n",
    "    ],\n",
    "    \"critical\": [\n",
    "        \"wrong\", \"fail\", \"disaster\", \"corrupt\", \"broken\",\n",
    "        \"mistake\", \"problem\", \"fake\", \"weak\", \"dishonest\",\n",
    "        \"incompetent\", \"scandal\", \"blame\", \"dysfunctional\", \n",
    "        \"criticize\", \"attack\", \"chaos\", \"flawed\", \"ineffective\"\n",
    "    ]\n",
    "}"
   ]
  },
  {
   "cell_type": "code",
   "execution_count": 3,
   "id": "fbf1fff7-2f6a-46e3-8c3e-c2a59dc3b2e8",
   "metadata": {},
   "outputs": [],
   "source": [
    "import pandas as pd\n",
    "import re\n",
    "\n",
    "def detect_emotions(text, emotion_keywords):\n",
    "    \"\"\"Detect emotions in a text based on predefined keywords.\"\"\"\n",
    "    detected_emotions = {}\n",
    "    text_lower = text.lower()\n",
    "\n",
    "    for emotion, keywords in emotion_keywords.items():\n",
    "        # Check if any keyword for the emotion is in the text\n",
    "        detected_emotions[emotion] = any(re.search(rf'\\b{k}\\b', text_lower) for k in keywords)\n",
    "\n",
    "    return detected_emotions"
   ]
  },
  {
   "cell_type": "code",
   "execution_count": 5,
   "id": "904b4389-dcda-4ef1-81da-e2b9295ec386",
   "metadata": {},
   "outputs": [],
   "source": [
    "# Load the dataset\n",
    "df_trump = pd.read_csv('processed_trump_speeches.csv')\n",
    "df_biden = pd.read_csv('processed_biden_speeches.csv')\n",
    "\n",
    "# Apply emotion detection\n",
    "df_trump['emotions'] = df_trump['RawText'].apply(lambda x: detect_emotions(x, emotion_keywords))\n",
    "df_biden['emotions'] = df_biden['RawText'].apply(lambda x: detect_emotions(x, emotion_keywords))\n",
    "\n",
    "# Expand the 'emotions' dictionary into individual columns\n",
    "df_trump = pd.concat([df_trump, pd.DataFrame(df_trump['emotions'].tolist())], axis=1)\n",
    "df_biden = pd.concat([df_biden, pd.DataFrame(df_biden['emotions'].tolist())], axis=1)\n",
    "\n",
    "# Drop the intermediate 'emotions' column\n",
    "df_trump.drop(columns=['emotions'], inplace=True)\n",
    "df_biden.drop(columns=['emotions'], inplace=True)"
   ]
  },
  {
   "cell_type": "code",
   "execution_count": 7,
   "id": "29fd3196-d56e-441a-8487-4934125df0df",
   "metadata": {},
   "outputs": [],
   "source": [
    "df_trump.to_csv('trump_speeches_with_emotions.csv', index=False)\n",
    "df_biden.to_csv('biden_speeches_with_emotions.csv', index=False)"
   ]
  },
  {
   "cell_type": "code",
   "execution_count": null,
   "id": "7749c31b-b8dd-4934-b8cf-1cc8082f47f0",
   "metadata": {},
   "outputs": [],
   "source": []
  }
 ],
 "metadata": {
  "kernelspec": {
   "display_name": "Python 3 (ipykernel)",
   "language": "python",
   "name": "python3"
  },
  "language_info": {
   "codemirror_mode": {
    "name": "ipython",
    "version": 3
   },
   "file_extension": ".py",
   "mimetype": "text/x-python",
   "name": "python",
   "nbconvert_exporter": "python",
   "pygments_lexer": "ipython3",
   "version": "3.12.4"
  }
 },
 "nbformat": 4,
 "nbformat_minor": 5
}
