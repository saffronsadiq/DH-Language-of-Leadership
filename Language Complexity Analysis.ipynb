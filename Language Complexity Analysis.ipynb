{
 "cells": [
  {
   "cell_type": "code",
   "execution_count": 1,
   "id": "31215698-6140-4c16-bc49-96a77c0c850d",
   "metadata": {},
   "outputs": [
    {
     "name": "stderr",
     "output_type": "stream",
     "text": [
      "[nltk_data] Downloading package punkt to /Users/Saff/nltk_data...\n",
      "[nltk_data]   Package punkt is already up-to-date!\n"
     ]
    },
    {
     "name": "stdout",
     "output_type": "stream",
     "text": [
      "   avg_sentence_length  vocabulary_richness\n",
      "0            15.581421             0.124360\n",
      "1            13.286713             0.245789\n",
      "2            32.435897             0.344664\n",
      "3            18.865672             0.428797\n",
      "4            28.333333             0.670588\n",
      "       avg_sentence_length  vocabulary_richness\n",
      "count           683.000000           683.000000\n",
      "mean             20.526212             0.335743\n",
      "std              12.190703             0.169792\n",
      "min               6.812500             0.104589\n",
      "25%              12.891917             0.185275\n",
      "50%              15.751445             0.296748\n",
      "75%              26.813043             0.491291\n",
      "max             123.857143             0.740385\n"
     ]
    }
   ],
   "source": [
    "import pandas as pd\n",
    "import nltk\n",
    "from nltk.tokenize import sent_tokenize, word_tokenize\n",
    "\n",
    "# Load the dataset\n",
    "file_path = \"trump_speeches.csv\"  # Replace with \"biden_speeches.csv\" for Biden's speeches\n",
    "df = pd.read_csv(file_path)\n",
    "\n",
    "# Ensure RawText column exists\n",
    "nltk.download('punkt')\n",
    "\n",
    "# Function for complexity analysis\n",
    "def analyze_complexity(text):\n",
    "    sentences = sent_tokenize(text)\n",
    "    words = word_tokenize(text)\n",
    "\n",
    "    # Calculate metrics\n",
    "    avg_sentence_length = len(words) / len(sentences) if sentences else 0\n",
    "    vocab_richness = len(set(words)) / len(words) if words else 0\n",
    "\n",
    "    return avg_sentence_length, vocab_richness\n",
    "\n",
    "# Apply complexity analysis to all speeches\n",
    "df[['avg_sentence_length', 'vocabulary_richness']] = df['RawText'].apply(\n",
    "    lambda x: pd.Series(analyze_complexity(x))\n",
    ")\n",
    "\n",
    "# Print the first few rows to verify results\n",
    "print(df[['avg_sentence_length', 'vocabulary_richness']].head())\n",
    "\n",
    "# Summary statistics\n",
    "print(df[['avg_sentence_length', 'vocabulary_richness']].describe())"
   ]
  },
  {
   "cell_type": "code",
   "execution_count": 3,
   "id": "15b3dc2e-8a97-49f8-bf81-5838f4664717",
   "metadata": {},
   "outputs": [
    {
     "name": "stderr",
     "output_type": "stream",
     "text": [
      "[nltk_data] Downloading package punkt to /Users/Saff/nltk_data...\n",
      "[nltk_data]   Package punkt is already up-to-date!\n"
     ]
    },
    {
     "name": "stdout",
     "output_type": "stream",
     "text": [
      "   avg_sentence_length  vocabulary_richness\n",
      "0            13.257143             0.280891\n",
      "1            37.461538             0.529774\n",
      "2            14.105660             0.174425\n",
      "3            15.708229             0.183362\n",
      "4           103.350000             0.245767\n",
      "       avg_sentence_length  vocabulary_richness\n",
      "count           511.000000           511.000000\n",
      "mean             25.730408             0.423722\n",
      "std              10.510307             0.154384\n",
      "min              10.515823             0.066835\n",
      "25%              17.653005             0.289423\n",
      "50%              23.857143             0.457026\n",
      "75%              31.000000             0.552851\n",
      "max             103.350000             0.767123\n"
     ]
    }
   ],
   "source": [
    "import pandas as pd\n",
    "import nltk\n",
    "from nltk.tokenize import sent_tokenize, word_tokenize\n",
    "\n",
    "# Load the dataset\n",
    "file_path = \"biden_speeches.csv\" \n",
    "df = pd.read_csv(file_path)\n",
    "\n",
    "# Ensure RawText column exists\n",
    "nltk.download('punkt')\n",
    "\n",
    "# Function for complexity analysis\n",
    "def analyze_complexity(text):\n",
    "    sentences = sent_tokenize(text)\n",
    "    words = word_tokenize(text)\n",
    "\n",
    "    # Calculate metrics\n",
    "    avg_sentence_length = len(words) / len(sentences) if sentences else 0\n",
    "    vocab_richness = len(set(words)) / len(words) if words else 0\n",
    "\n",
    "    return avg_sentence_length, vocab_richness\n",
    "\n",
    "# Apply complexity analysis to all speeches\n",
    "df[['avg_sentence_length', 'vocabulary_richness']] = df['RawText'].apply(\n",
    "    lambda x: pd.Series(analyze_complexity(x))\n",
    ")\n",
    "\n",
    "# Print the first few rows to verify results\n",
    "print(df[['avg_sentence_length', 'vocabulary_richness']].head())\n",
    "\n",
    "# Summary statistics\n",
    "print(df[['avg_sentence_length', 'vocabulary_richness']].describe())"
   ]
  },
  {
   "cell_type": "code",
   "execution_count": null,
   "id": "158fa36d-65e0-4b95-aa39-cd3b72b1d20d",
   "metadata": {},
   "outputs": [],
   "source": []
  }
 ],
 "metadata": {
  "kernelspec": {
   "display_name": "Python 3 (ipykernel)",
   "language": "python",
   "name": "python3"
  },
  "language_info": {
   "codemirror_mode": {
    "name": "ipython",
    "version": 3
   },
   "file_extension": ".py",
   "mimetype": "text/x-python",
   "name": "python",
   "nbconvert_exporter": "python",
   "pygments_lexer": "ipython3",
   "version": "3.12.2"
  }
 },
 "nbformat": 4,
 "nbformat_minor": 5
}
